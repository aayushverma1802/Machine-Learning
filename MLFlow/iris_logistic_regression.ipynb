{
 "cells": [
  {
   "cell_type": "code",
   "execution_count": 26,
   "metadata": {},
   "outputs": [
    {
     "name": "stdout",
     "output_type": "stream",
     "text": [
      "\n",
      "=== MODEL PERFORMANCE ===\n",
      "Accuracy: 1.0000\n",
      "\n",
      "=== CONFUSION MATRIX ===\n",
      "[[10  0  0]\n",
      " [ 0  9  0]\n",
      " [ 0  0 11]]\n",
      "\n",
      "=== CLASSIFICATION REPORT ===\n",
      "{np.str_('setosa'): {'precision': 1.0, 'recall': 1.0, 'f1-score': 1.0, 'support': 10.0}, np.str_('versicolor'): {'precision': 1.0, 'recall': 1.0, 'f1-score': 1.0, 'support': 9.0}, np.str_('virginica'): {'precision': 1.0, 'recall': 1.0, 'f1-score': 1.0, 'support': 11.0}, 'accuracy': 1.0, 'macro avg': {'precision': 1.0, 'recall': 1.0, 'f1-score': 1.0, 'support': 30.0}, 'weighted avg': {'precision': 1.0, 'recall': 1.0, 'f1-score': 1.0, 'support': 30.0}}\n"
     ]
    },
    {
     "name": "stderr",
     "output_type": "stream",
     "text": [
      "c:\\Users\\aayush.verma\\AppData\\Local\\Programs\\Python\\Python313\\Lib\\site-packages\\sklearn\\linear_model\\_logistic.py:1272: FutureWarning: 'multi_class' was deprecated in version 1.5 and will be removed in 1.8. From then on, it will always use 'multinomial'. Leave it to its default value to avoid this warning.\n",
      "  warnings.warn(\n"
     ]
    }
   ],
   "source": [
    "# Simple Logistic Regression on Iris Dataset with Parameters and Report\n",
    "from sklearn.datasets import load_iris\n",
    "from sklearn.model_selection import train_test_split\n",
    "from sklearn.linear_model import LogisticRegression\n",
    "from sklearn.metrics import accuracy_score, classification_report, confusion_matrix, precision_score, recall_score, f1_score\n",
    "import pandas as pd\n",
    "\n",
    "# Define Parameters\n",
    "params = {\n",
    "    'test_size': 0.2,\n",
    "    'random_state': 42,\n",
    "    'max_iter': 100000,\n",
    "    'solver': 'lbfgs',\n",
    "    'multi_class': 'auto'\n",
    "}\n",
    "\n",
    "# Load data\n",
    "iris = load_iris()\n",
    "X, y = iris.data, iris.target\n",
    "\n",
    "# Split data using defined parameters\n",
    "X_train, X_test, y_train, y_test = train_test_split(\n",
    "    X, y, \n",
    "    test_size=params['test_size'], \n",
    "    random_state=params['random_state']\n",
    ")\n",
    "\n",
    "# Train model with defined parameters\n",
    "model = LogisticRegression(\n",
    "    random_state=params['random_state'],\n",
    "    max_iter=params['max_iter'],\n",
    "    solver=params['solver'],\n",
    "    multi_class=params['multi_class']\n",
    ")\n",
    "model.fit(X_train, y_train)\n",
    "\n",
    "# Predictions\n",
    "y_pred = model.predict(X_test)\n",
    "\n",
    "# Calculate metrics\n",
    "accuracy = accuracy_score(y_test, y_pred)\n",
    "conf_matrix = confusion_matrix(y_test, y_pred)\n",
    "\n",
    "# Create report variable with classification report\n",
    "report = classification_report(y_test, y_pred, target_names=iris.target_names,output_dict=True)\n",
    "\n",
    "\n",
    "print(f\"\\n=== MODEL PERFORMANCE ===\")\n",
    "print(f\"Accuracy: {accuracy:.4f}\")\n",
    "\n",
    "print(f\"\\n=== CONFUSION MATRIX ===\")\n",
    "print(conf_matrix)\n",
    "\n",
    "print(f\"\\n=== CLASSIFICATION REPORT ===\")\n",
    "print(report)\n"
   ]
  },
  {
   "cell_type": "code",
   "execution_count": 27,
   "metadata": {},
   "outputs": [],
   "source": [
    "import mlflow\n"
   ]
  },
  {
   "cell_type": "code",
   "execution_count": 28,
   "metadata": {},
   "outputs": [],
   "source": [
    "report_dict=report\n"
   ]
  },
  {
   "cell_type": "code",
   "execution_count": 29,
   "metadata": {},
   "outputs": [
    {
     "name": "stderr",
     "output_type": "stream",
     "text": [
      "2025/10/03 14:14:30 WARNING mlflow.models.model: `artifact_path` is deprecated. Please use `name` instead.\n",
      "2025/10/03 14:14:42 WARNING mlflow.models.model: Model logged without a signature and input example. Please set `input_example` parameter when logging the model to auto infer the model signature.\n"
     ]
    },
    {
     "name": "stdout",
     "output_type": "stream",
     "text": [
      "🏃 View run stylish-fish-797 at: http://127.0.0.1:5000/#/experiments/988989744012044841/runs/d1ae33e2c3b0464bae8c0461a57b0fe5\n",
      "🧪 View experiment at: http://127.0.0.1:5000/#/experiments/988989744012044841\n"
     ]
    }
   ],
   "source": [
    "mlflow.set_experiment(\"Iris Logistic Regression\")\n",
    "mlflow.set_tracking_uri(\"http://127.0.0.1:5000/\")\n",
    "\n",
    "with mlflow.start_run():\n",
    "    # Log parameters\n",
    "    mlflow.log_params(params)\n",
    "    \n",
    "    # Log scalar metrics only\n",
    "    mlflow.log_metrics({\n",
    "        'accuracy': report_dict['accuracy'],\n",
    "        'precision_macro': report_dict['macro avg']['precision'],\n",
    "        'recall_macro': report_dict['macro avg']['recall'],\n",
    "        'f1_score_macro': report_dict['macro avg']['f1-score'],\n",
    "        'precision_weighted': report_dict['weighted avg']['precision'],\n",
    "        'recall_weighted': report_dict['weighted avg']['recall'],\n",
    "        'f1_score_weighted': report_dict['weighted avg']['f1-score']\n",
    "    })\n",
    "    mlflow.sklearn.log_model(model, \"LogisticRegression\")\n",
    "    \n",
    "   "
   ]
  },
  {
   "cell_type": "code",
   "execution_count": null,
   "metadata": {},
   "outputs": [],
   "source": []
  }
 ],
 "metadata": {
  "kernelspec": {
   "display_name": "Python 3",
   "language": "python",
   "name": "python3"
  },
  "language_info": {
   "codemirror_mode": {
    "name": "ipython",
    "version": 3
   },
   "file_extension": ".py",
   "mimetype": "text/x-python",
   "name": "python",
   "nbconvert_exporter": "python",
   "pygments_lexer": "ipython3",
   "version": "3.13.7"
  }
 },
 "nbformat": 4,
 "nbformat_minor": 2
}
